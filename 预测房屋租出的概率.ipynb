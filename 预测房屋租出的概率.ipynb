{
 "cells": [
  {
   "cell_type": "markdown",
   "metadata": {},
   "source": [
    "# 预测房屋出租状况"
   ]
  },
  {
   "cell_type": "markdown",
   "metadata": {},
   "source": [
    "## 项目简介"
   ]
  },
  {
   "cell_type": "markdown",
   "metadata": {},
   "source": [
    "一个房屋共享公司(如Airbnb)想要帮助房屋供应商为他们的房屋设定一个合理的价格。其中一个关键的步骤是建立一个模型来预测\n",
    "在一定条件下购买一个房间的可能性(以特定的特征和日期来描述)。我们的历史数据：[训练集](http://www.menet.umn.edu/~zwang/files/case2_training.csv)有50000个数据，[测试集](http://www.menet.umn.edu/~zwang/files/case2_testing.csv)有20000个数据。它们有以下特征："
   ]
  },
  {
   "cell_type": "markdown",
   "metadata": {},
   "source": [
    "* ID:数据标识\n",
    "* Region:房屋所属的区域(取1到10之间的值的整数)\n",
    "* Date:租出的日期(1‐365之间的整数，这里我们只考虑1天的请求)\n",
    "* Weekday:星期几(1‐7之间的整数)\n",
    "* Apartment/Room:房间是整个公寓(1)还是一个房间(0)\n",
    "* Beds:房屋内床的数量(1‐4之间的整数)\n",
    "* Review：平均评分(1到5之间的连续变量)\n",
    "* Pic Quality：房屋图片的质量(0到1之间的连续变量)\n",
    "* Price:房屋的历史标价(连续变量)\n",
    "* Accept:这个房屋是否被接受(有人租了它，1)或没有(0)"
   ]
  },
  {
   "cell_type": "markdown",
   "metadata": {},
   "source": [
    "我们的目标：建立一个模型来预测每个测试集的购买可能性。我们会采用逻辑回归，决策树，随机森林，神经网络和SVM算法来分别建立模型，并选择相对优秀的模型来预测测试集。"
   ]
  },
  {
   "cell_type": "markdown",
   "metadata": {},
   "source": [
    "## 特征转换"
   ]
  },
  {
   "cell_type": "markdown",
   "metadata": {},
   "source": [
    "我们首先读入训练集数据，并检查有无缺失值。"
   ]
  },
  {
   "cell_type": "code",
   "execution_count": 1,
   "metadata": {},
   "outputs": [
    {
     "name": "stdout",
     "output_type": "stream",
     "text": [
      "ID             0\n",
      "Region         0\n",
      "Date           0\n",
      "Weekday        0\n",
      "Apartment      0\n",
      "Beds           0\n",
      "Review         0\n",
      "Pic Quality    0\n",
      "Price          0\n",
      "Accept         0\n",
      "dtype: int64\n"
     ]
    }
   ],
   "source": [
    "#读入训练集数据\n",
    "import pandas as pd\n",
    "import matplotlib.pyplot as plt\n",
    "%matplotlib inline\n",
    "\n",
    "train=pd.read_csv('case2_training.csv')\n",
    "train=train.copy()\n",
    "\n",
    "#检查缺失值\n",
    "miss_n=train.isnull().sum()\n",
    "print(miss_n)"
   ]
  },
  {
   "cell_type": "markdown",
   "metadata": {},
   "source": [
    "以上可以看出训练集没有缺失值。接下来我们检查是否存在共线性的特征，通过绘出各个特征之间相关性的方法："
   ]
  },
  {
   "cell_type": "code",
   "execution_count": 2,
   "metadata": {},
   "outputs": [
    {
     "data": {
      "image/png": "[encoded data removed]",
      "text/plain": [
       "<Figure size 432x288 with 2 Axes>"
      ]
     },
     "metadata": {
      "needs_background": "light"
     },
     "output_type": "display_data"
    }
   ],
   "source": [
    "#绘出各个特征之间相关系数\n",
    "import seaborn as sns\n",
    "corrmat=train.corr().abs()\n",
    "sns.heatmap(corrmat)\n",
    "plt.show()"
   ]
  },
  {
   "cell_type": "markdown",
   "metadata": {},
   "source": [
    "由上图可知，不存在高共线性的特征。接下来我们深入各特征的商业内涵。首先是‘Price’"
   ]
  },
  {
   "cell_type": "code",
   "execution_count": 3,
   "metadata": {},
   "outputs": [
    {
     "data": {
      "text/plain": [
       "<matplotlib.axes._subplots.AxesSubplot at 0x1eb1f31bb48>"
      ]
     },
     "execution_count": 3,
     "metadata": {},
     "output_type": "execute_result"
    },
    {
     "data": {
      "image/png": "[encoded data removed]",
      "text/plain": [
       "<Figure size 432x288 with 1 Axes>"
      ]
     },
     "metadata": {
      "needs_background": "light"
     },
     "output_type": "display_data"
    }
   ],
   "source": [
    "train['Price'].hist()"
   ]
  },
  {
   "cell_type": "markdown",
   "metadata": {},
   "source": [
    "从上图得知：‘Price’是一个跨度比较大的连续变量，我们将它标准化。另外，‘ID’也和预测结果无关，因为它代表每个数据的标识，我们先将它删去。"
   ]
  },
  {
   "cell_type": "code",
   "execution_count": 4,
   "metadata": {},
   "outputs": [],
   "source": [
    "#标准化'Price'变量\n",
    "train['normalized_price'] = (train['Price'] - train['Price'].mean()) / (train['Price'].std())\n",
    "del train['Price']\n",
    "\n",
    "#删去‘ID’变量\n",
    "del train['ID']"
   ]
  },
  {
   "cell_type": "markdown",
   "metadata": {},
   "source": [
    "其次，对于‘Date’,是租出的日期(1‐365之间的整数），为了简便，我们可以将日期归类为月份（1-12）或者季度（1-4）。经检测，变季度时，模型的auc值更高，所以这里我们把它转换成季度归类。1,2,3,4分别对应着1,2,3,4季度："
   ]
  },
  {
   "cell_type": "code",
   "execution_count": 5,
   "metadata": {},
   "outputs": [],
   "source": [
    "#把日期（365天）归类转化为季度（1,2,3,4季度）\n",
    "def assign_label(h):\n",
    "    if h >=0 and h < 92:\n",
    "        return 1\n",
    "    elif h >= 92 and h <183:\n",
    "        return 2\n",
    "    elif h >=183 and h <275 :\n",
    "        return 3\n",
    "    elif h >= 275 and h < 366:\n",
    "        return 4   \n",
    "\n",
    "train[\"date_label\"] = train[\"Date\"].apply(assign_label)\n",
    "del train['Date']"
   ]
  },
  {
   "cell_type": "markdown",
   "metadata": {},
   "source": [
    "另外，对于‘Weekday’特征，我们将其所对应的1-7天转化成周末和平日。我们知道，在周末，周五和周六晚上酒店的入住率会比较高，而周日到周四晚上的平日，入住率会相对较低。因此，我们将周日到周四归为类别1，周五和周六归为类别2:"
   ]
  },
  {
   "cell_type": "code",
   "execution_count": 6,
   "metadata": {},
   "outputs": [],
   "source": [
    "#将周日到周四归为类别1，周五和周六归为类别2\n",
    "def assign_week(h):\n",
    "    if h >=0 and h < 5 or h>=7:\n",
    "        return 1\n",
    "    elif h >= 5 and h <7:\n",
    "        return 2\n",
    "\n",
    "train[\"week_label\"] = train[\"Weekday\"].apply(assign_week)\n",
    "del train['Weekday']"
   ]
  },
  {
   "cell_type": "markdown",
   "metadata": {},
   "source": [
    "最后，我们将原训练集里代表类别的特征‘Region’虚拟化处理："
   ]
  },
  {
   "cell_type": "code",
   "execution_count": 7,
   "metadata": {},
   "outputs": [
    {
     "data": {
      "text/html": [
       "<div>\n",
       "<style scoped>\n",
       "    .dataframe tbody tr th:only-of-type {\n",
       "        vertical-align: middle;\n",
       "    }\n",
       "\n",
       "    .dataframe tbody tr th {\n",
       "        vertical-align: top;\n",
       "    }\n",
       "\n",
       "    .dataframe thead th {\n",
       "        text-align: right;\n",
       "    }\n",
       "</style>\n",
       "<table border=\"1\" class=\"dataframe\">\n",
       "  <thead>\n",
       "    <tr style=\"text-align: right;\">\n",
       "      <th></th>\n",
       "      <th>Apartment</th>\n",
       "      <th>Beds</th>\n",
       "      <th>Review</th>\n",
       "      <th>Pic Quality</th>\n",
       "      <th>Accept</th>\n",
       "      <th>normalized_price</th>\n",
       "      <th>date_label</th>\n",
       "      <th>week_label</th>\n",
       "      <th>Region_1</th>\n",
       "      <th>Region_2</th>\n",
       "      <th>Region_3</th>\n",
       "      <th>Region_4</th>\n",
       "      <th>Region_5</th>\n",
       "      <th>Region_6</th>\n",
       "      <th>Region_7</th>\n",
       "      <th>Region_8</th>\n",
       "      <th>Region_9</th>\n",
       "      <th>Region_10</th>\n",
       "    </tr>\n",
       "  </thead>\n",
       "  <tbody>\n",
       "    <tr>\n",
       "      <td>0</td>\n",
       "      <td>1</td>\n",
       "      <td>1</td>\n",
       "      <td>4.526975</td>\n",
       "      <td>0.739994</td>\n",
       "      <td>0</td>\n",
       "      <td>-0.932707</td>\n",
       "      <td>1</td>\n",
       "      <td>2</td>\n",
       "      <td>0</td>\n",
       "      <td>0</td>\n",
       "      <td>0</td>\n",
       "      <td>1</td>\n",
       "      <td>0</td>\n",
       "      <td>0</td>\n",
       "      <td>0</td>\n",
       "      <td>0</td>\n",
       "      <td>0</td>\n",
       "      <td>0</td>\n",
       "    </tr>\n",
       "    <tr>\n",
       "      <td>1</td>\n",
       "      <td>1</td>\n",
       "      <td>1</td>\n",
       "      <td>4.548455</td>\n",
       "      <td>0.862642</td>\n",
       "      <td>0</td>\n",
       "      <td>0.337202</td>\n",
       "      <td>1</td>\n",
       "      <td>1</td>\n",
       "      <td>0</td>\n",
       "      <td>1</td>\n",
       "      <td>0</td>\n",
       "      <td>0</td>\n",
       "      <td>0</td>\n",
       "      <td>0</td>\n",
       "      <td>0</td>\n",
       "      <td>0</td>\n",
       "      <td>0</td>\n",
       "      <td>0</td>\n",
       "    </tr>\n",
       "    <tr>\n",
       "      <td>2</td>\n",
       "      <td>1</td>\n",
       "      <td>2</td>\n",
       "      <td>4.965732</td>\n",
       "      <td>0.515548</td>\n",
       "      <td>0</td>\n",
       "      <td>1.225097</td>\n",
       "      <td>4</td>\n",
       "      <td>2</td>\n",
       "      <td>0</td>\n",
       "      <td>0</td>\n",
       "      <td>0</td>\n",
       "      <td>0</td>\n",
       "      <td>1</td>\n",
       "      <td>0</td>\n",
       "      <td>0</td>\n",
       "      <td>0</td>\n",
       "      <td>0</td>\n",
       "      <td>0</td>\n",
       "    </tr>\n",
       "    <tr>\n",
       "      <td>3</td>\n",
       "      <td>1</td>\n",
       "      <td>1</td>\n",
       "      <td>4.752735</td>\n",
       "      <td>0.561547</td>\n",
       "      <td>1</td>\n",
       "      <td>-1.809686</td>\n",
       "      <td>3</td>\n",
       "      <td>1</td>\n",
       "      <td>0</td>\n",
       "      <td>0</td>\n",
       "      <td>1</td>\n",
       "      <td>0</td>\n",
       "      <td>0</td>\n",
       "      <td>0</td>\n",
       "      <td>0</td>\n",
       "      <td>0</td>\n",
       "      <td>0</td>\n",
       "      <td>0</td>\n",
       "    </tr>\n",
       "    <tr>\n",
       "      <td>4</td>\n",
       "      <td>1</td>\n",
       "      <td>2</td>\n",
       "      <td>3.890960</td>\n",
       "      <td>0.817142</td>\n",
       "      <td>1</td>\n",
       "      <td>-1.637429</td>\n",
       "      <td>2</td>\n",
       "      <td>1</td>\n",
       "      <td>1</td>\n",
       "      <td>0</td>\n",
       "      <td>0</td>\n",
       "      <td>0</td>\n",
       "      <td>0</td>\n",
       "      <td>0</td>\n",
       "      <td>0</td>\n",
       "      <td>0</td>\n",
       "      <td>0</td>\n",
       "      <td>0</td>\n",
       "    </tr>\n",
       "  </tbody>\n",
       "</table>\n",
       "</div>"
      ],
      "text/plain": [
       "   Apartment  Beds    Review  Pic Quality  Accept  normalized_price  \\\n",
       "0          1     1  4.526975     0.739994       0         -0.932707   \n",
       "1          1     1  4.548455     0.862642       0          0.337202   \n",
       "2          1     2  4.965732     0.515548       0          1.225097   \n",
       "3          1     1  4.752735     0.561547       1         -1.809686   \n",
       "4          1     2  3.890960     0.817142       1         -1.637429   \n",
       "\n",
       "   date_label  week_label  Region_1  Region_2  Region_3  Region_4  Region_5  \\\n",
       "0           1           2         0         0         0         1         0   \n",
       "1           1           1         0         1         0         0         0   \n",
       "2           4           2         0         0         0         0         1   \n",
       "3           3           1         0         0         1         0         0   \n",
       "4           2           1         1         0         0         0         0   \n",
       "\n",
       "   Region_6  Region_7  Region_8  Region_9  Region_10  \n",
       "0         0         0         0         0          0  \n",
       "1         0         0         0         0          0  \n",
       "2         0         0         0         0          0  \n",
       "3         0         0         0         0          0  \n",
       "4         0         0         0         0          0  "
      ]
     },
     "execution_count": 7,
     "metadata": {},
     "output_type": "execute_result"
    }
   ],
   "source": [
    "#将原训练集里代表类别的特征‘Region’虚拟化处理\n",
    "dum=pd.get_dummies(train['Region'],prefix=\"Region\")\n",
    "train=pd.concat([train,dum],axis=1)\n",
    "del train['Region']\n",
    "\n",
    "#转换后的transform_train留作给不同的算法使用\n",
    "transform_train=train\n",
    "\n",
    "#显示特征转换后的前五行\n",
    "train.head()"
   ]
  },
  {
   "cell_type": "markdown",
   "metadata": {},
   "source": [
    "特征转换完之后，下面我们可以开始训练模型了。我们将依次用：逻辑回归，决策树，随机森林，神经网络和SVM算法来训练模型并评估。"
   ]
  },
  {
   "cell_type": "markdown",
   "metadata": {},
   "source": [
    "## 用逻辑回归算法来训练模型"
   ]
  },
  {
   "cell_type": "markdown",
   "metadata": {},
   "source": [
    "我们将使用sklearn里的LogisticRegression来训练训练集；并且为了真实的描述模型的准确性，我们将执行K交叉验证：通过 sklearn.model_selection库的cross_val_predict() 函数来实现。"
   ]
  },
  {
   "cell_type": "code",
   "execution_count": 8,
   "metadata": {},
   "outputs": [],
   "source": [
    "#首先设置忽略warnings\n",
    "import warnings  \n",
    "warnings.filterwarnings('ignore')"
   ]
  },
  {
   "cell_type": "code",
   "execution_count": 9,
   "metadata": {},
   "outputs": [],
   "source": [
    "#逻辑回归算法来训练模型\n",
    "from sklearn.model_selection import cross_val_predict\n",
    "from sklearn.linear_model import LogisticRegression\n",
    "\n",
    "train=transform_train\n",
    "#设置惩罚因子，我们加重惩罚错误预测为1的\n",
    "penalty = {\n",
    "    0: 1,\n",
    "    1: 3.6\n",
    "}\n",
    "\n",
    "#实例化模型对象:\n",
    "lr = LogisticRegression(class_weight=penalty)\n",
    "features =train.columns.drop(\"Accept\")\n",
    "lr.fit(train[features],train['Accept'])\n",
    "\n",
    "#使用5重交叉验证进行预测\n",
    "fitted_labels=cross_val_predict(lr,train[features],train['Accept'],cv=5)\n",
    "train['fitted_labels']=fitted_labels"
   ]
  },
  {
   "cell_type": "markdown",
   "metadata": {},
   "source": [
    "训练模型后，我们将评估所预测的训练集结果。我们使用四个指标：auc(曲线下面积），accuracy(准确率），precision(精准率）和recall(召回率），四个指标的对比，我们将在后文给出。"
   ]
  },
  {
   "cell_type": "code",
   "execution_count": 10,
   "metadata": {},
   "outputs": [
    {
     "name": "stdout",
     "output_type": "stream",
     "text": [
      "auc : 0.7175635602356261\n",
      "accuracy : 0.6716\n",
      "precision : 0.4419339358553947\n",
      "recall : 0.8176235572654632\n"
     ]
    },
    {
     "data": {
      "image/png": "[encoded data removed]",
      "text/plain": [
       "<Figure size 432x288 with 1 Axes>"
      ]
     },
     "metadata": {
      "needs_background": "light"
     },
     "output_type": "display_data"
    }
   ],
   "source": [
    "from sklearn.metrics import roc_curve,auc\n",
    "#计算auc\n",
    "fpr,tpr,thresholds =roc_curve(train['Accept'],train['fitted_labels'])\n",
    "auc=auc(fpr,tpr)\n",
    "print('auc : '+str(auc))\n",
    "\n",
    "#以fpr假正率为横轴，tpr真征率为纵轴绘出auc曲线\n",
    "plt.plot(fpr,tpr)\n",
    "plt.plot([0,1],[0,1],'r--')\n",
    "\n",
    "from sklearn.metrics import accuracy_score,precision_score,recall_score\n",
    "#计算accuracy\n",
    "accuracy = accuracy_score(train['Accept'],train['fitted_labels'])\n",
    "print('accuracy : '+str(accuracy))\n",
    "#计算precision\n",
    "precision =precision_score(train['Accept'],train['fitted_labels'])\n",
    "print('precision : '+str(precision))\n",
    "#计算recall\n",
    "recall=recall_score(train['Accept'],train['fitted_labels'])\n",
    "print('recall : '+str(recall))"
   ]
  },
  {
   "cell_type": "markdown",
   "metadata": {},
   "source": [
    "由上得出逻辑回归算法预测的auc为 0.7175635602356261。"
   ]
  },
  {
   "cell_type": "markdown",
   "metadata": {},
   "source": [
    "## 决策树算法"
   ]
  },
  {
   "cell_type": "markdown",
   "metadata": {},
   "source": [
    "我们将使用sklearn里的DecisionTreeClassifier来训练训练集；同样，为了真实的描述模型的准确性，我们将执行K交叉验证：通过 sklearn.model_selection库的cross_val_predict() 函数来实现。"
   ]
  },
  {
   "cell_type": "code",
   "execution_count": 11,
   "metadata": {},
   "outputs": [],
   "source": [
    "#使用决策树算法来训练训练集\n",
    "from sklearn.tree import DecisionTreeClassifier\n",
    "from sklearn.model_selection import cross_val_predict\n",
    "\n",
    "train=transform_train\n",
    "\n",
    "#设置惩罚因子，我们加重惩罚错误预测为1的\n",
    "penalty = {\n",
    "    0: 1,\n",
    "    1: 3.6\n",
    "}\n",
    "\n",
    "features =train.columns.drop(\"Accept\")\n",
    "#实例化模型对象；最大树深设为10；节点被分割之前的最小行数设为2，即是具有2行的节点将不会被分割，而是变成叶子\n",
    "clf = DecisionTreeClassifier(class_weight=penalty,min_samples_split=2,max_depth=10)\n",
    "clf.fit(train[features], train['Accept'])\n",
    "\n",
    "#使用5重交叉验证进行预测\n",
    "fitted_labels=cross_val_predict(clf,train[features],train['Accept'],cv=5)\n",
    "train['fitted_labels']=fitted_labels"
   ]
  },
  {
   "cell_type": "markdown",
   "metadata": {},
   "source": [
    "同样，训练模型后，我们将评估所预测的训练集结果。我们使用四个指标：auc(曲线下面积），accuracy(准确率），precision(精准率）和recall(召回率），四个指标的对比，我们将在后文给出。"
   ]
  },
  {
   "cell_type": "code",
   "execution_count": 12,
   "metadata": {},
   "outputs": [
    {
     "name": "stdout",
     "output_type": "stream",
     "text": [
      "auc : 0.6947245848853494\n",
      "accuracy : 0.63256\n",
      "precision : 0.4110427200117242\n",
      "recall : 0.8300532701982836\n"
     ]
    },
    {
     "data": {
      "image/png": "[encoded data removed]",
      "text/plain": [
       "<Figure size 432x288 with 1 Axes>"
      ]
     },
     "metadata": {
      "needs_background": "light"
     },
     "output_type": "display_data"
    }
   ],
   "source": [
    "from sklearn.metrics import roc_curve,auc\n",
    "#计算auc\n",
    "fpr,tpr,thresholds =roc_curve(train['Accept'],train['fitted_labels'])\n",
    "auc=auc(fpr,tpr)\n",
    "print('auc : '+str(auc))\n",
    "\n",
    "#以fpr假正率为横轴，tpr真征率为纵轴绘出auc曲线\n",
    "plt.plot(fpr,tpr)\n",
    "plt.plot([0,1],[0,1],'r--')\n",
    "\n",
    "from sklearn.metrics import accuracy_score,precision_score,recall_score\n",
    "#计算accuracy\n",
    "accuracy = accuracy_score(train['Accept'],train['fitted_labels'])\n",
    "print('accuracy : '+str(accuracy))\n",
    "#计算precision\n",
    "precision =precision_score(train['Accept'],train['fitted_labels'])\n",
    "print('precision : '+str(precision))\n",
    "#计算recall\n",
    "recall=recall_score(train['Accept'],train['fitted_labels'])\n",
    "print('recall : '+str(recall))"
   ]
  },
  {
   "cell_type": "markdown",
   "metadata": {},
   "source": [
    "由上得出决策树算法预测的auc为 0.6948835773388841。"
   ]
  },
  {
   "cell_type": "markdown",
   "metadata": {},
   "source": [
    "## 随机森林算法"
   ]
  },
  {
   "cell_type": "markdown",
   "metadata": {},
   "source": [
    "通常，随机森林能减少过度拟合，并且总体上提高模型的准确性。我们将使用sklearn.ensemble里的RandomForestClassifier来训练训练集；同样，为了真实的描述模型的准确性，我们将执行K交叉验证：通过 sklearn.model_selection库的cross_val_predict() 函数来实现。"
   ]
  },
  {
   "cell_type": "code",
   "execution_count": 13,
   "metadata": {},
   "outputs": [],
   "source": [
    "#使用随机森林算法来训练训练集\n",
    "from sklearn.model_selection import cross_val_predict\n",
    "from sklearn.ensemble import RandomForestClassifier\n",
    "\n",
    "train=transform_train\n",
    "\n",
    "#设置惩罚因子，我们加重惩罚错误预测为1的\n",
    "penalty = {\n",
    "    0: 1,\n",
    "    1: 3.6\n",
    "}\n",
    "\n",
    "#实例化模型对象：最大树深设为11；节点被分割之前的最小行数设为2，即是具有2行的节点将不会被分割，而是变成叶子\n",
    "rf =RandomForestClassifier(class_weight=penalty,min_samples_split=2,max_depth=11)\n",
    "features =train.columns.drop(\"Accept\")\n",
    "rf.fit(train[features],train['Accept'])\n",
    "\n",
    "#使用5重交叉验证进行预测\n",
    "fitted_labels=cross_val_predict(rf,train[features],train['Accept'],cv=5)\n",
    "train['fitted_labels']=fitted_labels"
   ]
  },
  {
   "cell_type": "markdown",
   "metadata": {},
   "source": [
    "同样，训练模型后，我们将评估所预测的训练集结果。我们使用四个指标：auc(曲线下面积），accuracy(准确率），precision(精准率）和recall(召回率），四个指标的对比，我们将在后文给出。"
   ]
  },
  {
   "cell_type": "code",
   "execution_count": 15,
   "metadata": {},
   "outputs": [
    {
     "name": "stdout",
     "output_type": "stream",
     "text": [
      "auc : 0.7010618705296477\n",
      "accuracy : 0.64276\n",
      "precision : 0.4186994911703083\n",
      "recall : 0.8279816513761468\n"
     ]
    },
    {
     "data": {
      "image/png": "[encoded data removed]",
      "text/plain": [
       "<Figure size 432x288 with 1 Axes>"
      ]
     },
     "metadata": {
      "needs_background": "light"
     },
     "output_type": "display_data"
    }
   ],
   "source": [
    "from sklearn.metrics import roc_curve,auc\n",
    "#计算auc\n",
    "fpr,tpr,thresholds =roc_curve(train['Accept'],train['fitted_labels'])\n",
    "auc=auc(fpr,tpr)\n",
    "print('auc : '+str(auc))\n",
    "\n",
    "#以fpr假正率为横轴，tpr真征率为纵轴绘出auc曲线\n",
    "plt.plot(fpr,tpr)\n",
    "plt.plot([0,1],[0,1],'r--')\n",
    "\n",
    "from sklearn.metrics import accuracy_score,precision_score,recall_score\n",
    "#计算accuracy\n",
    "accuracy = accuracy_score(train['Accept'],train['fitted_labels'])\n",
    "print('accuracy : '+str(accuracy))\n",
    "#计算precision\n",
    "precision =precision_score(train['Accept'],train['fitted_labels'])\n",
    "print('precision : '+str(precision))\n",
    "#计算recall\n",
    "recall=recall_score(train['Accept'],train['fitted_labels'])\n",
    "print('recall : '+str(recall))"
   ]
  },
  {
   "cell_type": "markdown",
   "metadata": {},
   "source": [
    "由上我们得出，随机森林算法的auc为 0.7010618705296477"
   ]
  },
  {
   "cell_type": "markdown",
   "metadata": {},
   "source": [
    "## 神经网络"
   ]
  },
  {
   "cell_type": "markdown",
   "metadata": {},
   "source": [
    "我们将使用sklearn.neural_network里的MLPClassifier来训练训练集；同样，为了真实的描述模型的准确性，我们将执行K交叉验证：通过 sklearn.model_selection库的cross_val_predict() 函数来实现。"
   ]
  },
  {
   "cell_type": "code",
   "execution_count": 19,
   "metadata": {},
   "outputs": [],
   "source": [
    "#使用神经网络来训练训练集\n",
    "from sklearn.neural_network import MLPClassifier\n",
    "from sklearn.model_selection import cross_val_predict\n",
    "\n",
    "train=transform_train\n",
    "\n",
    "features =train.columns.drop('Accept')\n",
    "\n",
    "#实例化模型对象：隐藏层的数量是3，没层的神经元数量分别是2,6,10；\n",
    "#使用激活参数指定所有层中的激活函数:logistic：sigmoid函数；tanh：双曲正切函数；relu:ReLU函数;identity：正比例函数\n",
    "mlp=MLPClassifier(hidden_layer_sizes=(2,6,10),activation='logistic')\n",
    "mlp.fit(train[features],train['Accept'])\n",
    "\n",
    "#使用5重交叉验证进行预测\n",
    "fitted_labels=cross_val_predict(mlp,train[features],train['Accept'],cv=4)\n",
    "train['fitted_labels']=fitted_labels"
   ]
  },
  {
   "cell_type": "markdown",
   "metadata": {},
   "source": [
    "同样，训练模型后，我们将评估所预测的训练集结果。我们使用四个指标：auc(曲线下面积），accuracy(准确率），precision(精准率）和recall(召回率），四个指标的对比，我们将在后文给出。"
   ]
  },
  {
   "cell_type": "code",
   "execution_count": 21,
   "metadata": {},
   "outputs": [
    {
     "name": "stdout",
     "output_type": "stream",
     "text": [
      "神经网络：\n",
      "auc : 0.5878284720575782\n",
      "accuracy : 0.73642\n",
      "precision : 0.5247466588338963\n",
      "recall : 0.26435335898194734\n"
     ]
    },
    {
     "data": {
      "image/png": "[encoded data removed]",
      "text/plain": [
       "<Figure size 432x288 with 1 Axes>"
      ]
     },
     "metadata": {
      "needs_background": "light"
     },
     "output_type": "display_data"
    }
   ],
   "source": [
    "from sklearn.metrics import roc_curve,auc\n",
    "#计算auc\n",
    "fpr,tpr,thresholds =roc_curve(train['Accept'],train['fitted_labels'])\n",
    "auc=auc(fpr,tpr)\n",
    "print('神经网络：')\n",
    "print('auc : '+str(auc))\n",
    "\n",
    "#以fpr假正率为横轴，tpr真征率为纵轴绘出auc曲线\n",
    "plt.plot(fpr,tpr)\n",
    "plt.plot([0,1],[0,1],'r--')\n",
    "\n",
    "from sklearn.metrics import accuracy_score,precision_score,recall_score\n",
    "#计算accuracy\n",
    "accuracy = accuracy_score(train['Accept'],train['fitted_labels'])\n",
    "print('accuracy : '+str(accuracy))\n",
    "#计算precision\n",
    "precision =precision_score(train['Accept'],train['fitted_labels'])\n",
    "print('precision : '+str(precision))\n",
    "#计算recall\n",
    "recall=recall_score(train['Accept'],train['fitted_labels'])\n",
    "print('recall : '+str(recall))"
   ]
  },
  {
   "cell_type": "markdown",
   "metadata": {},
   "source": [
    "由上，我们得出神经网络算法的auc为 0.5878284720575782"
   ]
  },
  {
   "cell_type": "markdown",
   "metadata": {},
   "source": [
    "## 支持向量机SVM算法"
   ]
  },
  {
   "cell_type": "markdown",
   "metadata": {},
   "source": [
    "相对于神经网络，支持向量机算法结构简单，性能也有明显的提升。我们将使用sklearn里的svm来训练训练集；同样，为了真实的描述模型的准确性，我们将执行K交叉验证：通过 sklearn.model_selection库的cross_val_predict() 函数来实现。"
   ]
  },
  {
   "cell_type": "code",
   "execution_count": 22,
   "metadata": {},
   "outputs": [],
   "source": [
    "#使用支持向量机来训练模型\n",
    "from sklearn import svm\n",
    "from sklearn.model_selection import cross_val_predict\n",
    "\n",
    "train=transform_train\n",
    "\n",
    "#设置惩罚因子，我们加重惩罚错误预测为1的\n",
    "penalty = {\n",
    "    0: 1,\n",
    "    1: 3.6\n",
    "}\n",
    "\n",
    "features =train.columns.drop('Accept')\n",
    "\n",
    "#实例化模型对象：\n",
    "model = svm.SVC(class_weight=penalty) \n",
    "model.fit(train[features],train['Accept'])\n",
    "\n",
    "#使用5重交叉验证进行预测\n",
    "fitted_labels=cross_val_predict(model,train[features],train['Accept'],cv=5)\n",
    "train['fitted_labels']=fitted_labels"
   ]
  },
  {
   "cell_type": "markdown",
   "metadata": {},
   "source": [
    "同样，训练模型后，我们将评估所预测的训练集结果。我们使用四个指标：auc(曲线下面积），accuracy(准确率），precision(精准率）和recall(召回率），四个指标的对比，我们将在后文给出。"
   ]
  },
  {
   "cell_type": "code",
   "execution_count": 25,
   "metadata": {},
   "outputs": [
    {
     "name": "stdout",
     "output_type": "stream",
     "text": [
      "支持向量机SVM：\n",
      "auc : 0.7123324850382994\n",
      "accuracy : 0.62896\n",
      "precision : 0.4137612165216796\n",
      "recall : 0.8938295353654927\n"
     ]
    },
    {
     "data": {
      "image/png": "[encoded data removed]",
      "text/plain": [
       "<Figure size 432x288 with 1 Axes>"
      ]
     },
     "metadata": {
      "needs_background": "light"
     },
     "output_type": "display_data"
    }
   ],
   "source": [
    "from sklearn.metrics import roc_curve,auc\n",
    "#计算auc\n",
    "fpr,tpr,thresholds =roc_curve(train['Accept'],train['fitted_labels'])\n",
    "auc=auc(fpr,tpr)\n",
    "print('支持向量机SVM：')\n",
    "print('auc : '+str(auc))\n",
    "\n",
    "#以fpr假正率为横轴，tpr真征率为纵轴绘出auc曲线\n",
    "plt.plot(fpr,tpr)\n",
    "plt.plot([0,1],[0,1],'r--')\n",
    "\n",
    "from sklearn.metrics import accuracy_score,precision_score,recall_score\n",
    "#计算accuracy\n",
    "accuracy = accuracy_score(train['Accept'],train['fitted_labels'])\n",
    "print('accuracy : '+str(accuracy))\n",
    "#计算precision\n",
    "precision =precision_score(train['Accept'],train['fitted_labels'])\n",
    "print('precision : '+str(precision))\n",
    "#计算recall\n",
    "recall=recall_score(train['Accept'],train['fitted_labels'])\n",
    "print('recall : '+str(recall))"
   ]
  },
  {
   "cell_type": "markdown",
   "metadata": {},
   "source": [
    "由上，可以得出支持向量机算法的auc值是0.7123324850382994。"
   ]
  },
  {
   "cell_type": "markdown",
   "metadata": {},
   "source": [
    "## 选择模型及预测测试集"
   ]
  },
  {
   "cell_type": "markdown",
   "metadata": {},
   "source": [
    "综上，逻辑回归算法的auc值最高，为0.7175635602356261，因此我们本例中将选择该算法所生成的模型对测试集进行预测。我们选择auc作为主要指标的原因是auc指标可以无视样本目标项的不均衡分布。"
   ]
  },
  {
   "cell_type": "markdown",
   "metadata": {},
   "source": [
    "首先，我们对测试集也做如上的特征转换处理："
   ]
  },
  {
   "cell_type": "code",
   "execution_count": 30,
   "metadata": {},
   "outputs": [
    {
     "data": {
      "text/html": [
       "<div>\n",
       "<style scoped>\n",
       "    .dataframe tbody tr th:only-of-type {\n",
       "        vertical-align: middle;\n",
       "    }\n",
       "\n",
       "    .dataframe tbody tr th {\n",
       "        vertical-align: top;\n",
       "    }\n",
       "\n",
       "    .dataframe thead th {\n",
       "        text-align: right;\n",
       "    }\n",
       "</style>\n",
       "<table border=\"1\" class=\"dataframe\">\n",
       "  <thead>\n",
       "    <tr style=\"text-align: right;\">\n",
       "      <th></th>\n",
       "      <th>Apartment</th>\n",
       "      <th>Beds</th>\n",
       "      <th>Review</th>\n",
       "      <th>Pic Quality</th>\n",
       "      <th>normalized_price</th>\n",
       "      <th>date_label</th>\n",
       "      <th>week_label</th>\n",
       "      <th>Region_1</th>\n",
       "      <th>Region_2</th>\n",
       "      <th>Region_3</th>\n",
       "      <th>Region_4</th>\n",
       "      <th>Region_5</th>\n",
       "      <th>Region_6</th>\n",
       "      <th>Region_7</th>\n",
       "      <th>Region_8</th>\n",
       "      <th>Region_9</th>\n",
       "      <th>Region_10</th>\n",
       "    </tr>\n",
       "  </thead>\n",
       "  <tbody>\n",
       "    <tr>\n",
       "      <td>0</td>\n",
       "      <td>1</td>\n",
       "      <td>1</td>\n",
       "      <td>4.923078</td>\n",
       "      <td>0.683932</td>\n",
       "      <td>-0.341719</td>\n",
       "      <td>1</td>\n",
       "      <td>1</td>\n",
       "      <td>1</td>\n",
       "      <td>0</td>\n",
       "      <td>0</td>\n",
       "      <td>0</td>\n",
       "      <td>0</td>\n",
       "      <td>0</td>\n",
       "      <td>0</td>\n",
       "      <td>0</td>\n",
       "      <td>0</td>\n",
       "      <td>0</td>\n",
       "    </tr>\n",
       "    <tr>\n",
       "      <td>1</td>\n",
       "      <td>1</td>\n",
       "      <td>1</td>\n",
       "      <td>4.842211</td>\n",
       "      <td>0.958800</td>\n",
       "      <td>-0.230183</td>\n",
       "      <td>1</td>\n",
       "      <td>1</td>\n",
       "      <td>0</td>\n",
       "      <td>0</td>\n",
       "      <td>0</td>\n",
       "      <td>0</td>\n",
       "      <td>0</td>\n",
       "      <td>0</td>\n",
       "      <td>0</td>\n",
       "      <td>0</td>\n",
       "      <td>1</td>\n",
       "      <td>0</td>\n",
       "    </tr>\n",
       "    <tr>\n",
       "      <td>2</td>\n",
       "      <td>1</td>\n",
       "      <td>3</td>\n",
       "      <td>4.702331</td>\n",
       "      <td>0.500134</td>\n",
       "      <td>0.742937</td>\n",
       "      <td>4</td>\n",
       "      <td>1</td>\n",
       "      <td>0</td>\n",
       "      <td>1</td>\n",
       "      <td>0</td>\n",
       "      <td>0</td>\n",
       "      <td>0</td>\n",
       "      <td>0</td>\n",
       "      <td>0</td>\n",
       "      <td>0</td>\n",
       "      <td>0</td>\n",
       "      <td>0</td>\n",
       "    </tr>\n",
       "    <tr>\n",
       "      <td>3</td>\n",
       "      <td>1</td>\n",
       "      <td>1</td>\n",
       "      <td>4.388125</td>\n",
       "      <td>0.986082</td>\n",
       "      <td>-1.210650</td>\n",
       "      <td>4</td>\n",
       "      <td>1</td>\n",
       "      <td>0</td>\n",
       "      <td>0</td>\n",
       "      <td>0</td>\n",
       "      <td>0</td>\n",
       "      <td>0</td>\n",
       "      <td>0</td>\n",
       "      <td>0</td>\n",
       "      <td>1</td>\n",
       "      <td>0</td>\n",
       "      <td>0</td>\n",
       "    </tr>\n",
       "    <tr>\n",
       "      <td>4</td>\n",
       "      <td>0</td>\n",
       "      <td>1</td>\n",
       "      <td>3.868994</td>\n",
       "      <td>0.652980</td>\n",
       "      <td>-0.333568</td>\n",
       "      <td>4</td>\n",
       "      <td>1</td>\n",
       "      <td>0</td>\n",
       "      <td>0</td>\n",
       "      <td>1</td>\n",
       "      <td>0</td>\n",
       "      <td>0</td>\n",
       "      <td>0</td>\n",
       "      <td>0</td>\n",
       "      <td>0</td>\n",
       "      <td>0</td>\n",
       "      <td>0</td>\n",
       "    </tr>\n",
       "  </tbody>\n",
       "</table>\n",
       "</div>"
      ],
      "text/plain": [
       "   Apartment  Beds    Review  Pic Quality  normalized_price  date_label  \\\n",
       "0          1     1  4.923078     0.683932         -0.341719           1   \n",
       "1          1     1  4.842211     0.958800         -0.230183           1   \n",
       "2          1     3  4.702331     0.500134          0.742937           4   \n",
       "3          1     1  4.388125     0.986082         -1.210650           4   \n",
       "4          0     1  3.868994     0.652980         -0.333568           4   \n",
       "\n",
       "   week_label  Region_1  Region_2  Region_3  Region_4  Region_5  Region_6  \\\n",
       "0           1         1         0         0         0         0         0   \n",
       "1           1         0         0         0         0         0         0   \n",
       "2           1         0         1         0         0         0         0   \n",
       "3           1         0         0         0         0         0         0   \n",
       "4           1         0         0         1         0         0         0   \n",
       "\n",
       "   Region_7  Region_8  Region_9  Region_10  \n",
       "0         0         0         0          0  \n",
       "1         0         0         1          0  \n",
       "2         0         0         0          0  \n",
       "3         0         1         0          0  \n",
       "4         0         0         0          0  "
      ]
     },
     "execution_count": 30,
     "metadata": {},
     "output_type": "execute_result"
    }
   ],
   "source": [
    "#对测试集也做如上的特征转换处理\n",
    "test_original=pd.read_csv('case2_testing.csv')\n",
    "test=test_original.copy()\n",
    "\n",
    "#标准化'Price'变量\n",
    "test['normalized_price'] = (test['Price'] - test['Price'].mean()) / (test['Price'].std())\n",
    "del test['Price']\n",
    "#删去‘ID’变量\n",
    "del test['ID']\n",
    "\n",
    "\n",
    "#把日期（365天）归类转化为季度（1,2,3,4季度）\n",
    "def assign_label(h):\n",
    "    if h >=0 and h < 92:\n",
    "        return 1\n",
    "    elif h >= 92 and h <183:\n",
    "        return 2\n",
    "    elif h >=183 and h <275 :\n",
    "        return 3\n",
    "    elif h >= 275 and h < 366:\n",
    "        return 4   \n",
    "test[\"date_label\"] = test[\"Date\"].apply(assign_label)\n",
    "del test['Date']\n",
    "\n",
    "\n",
    "#将周日到周四归为类别1，周五和周六归为类别2\n",
    "def assign_week(h):\n",
    "    if h >=0 and h < 5 or h>=7:\n",
    "        return 1\n",
    "    elif h >= 5 and h <7:\n",
    "        return 2\n",
    "\n",
    "test[\"week_label\"] = test[\"Weekday\"].apply(assign_week)\n",
    "del test['Weekday']\n",
    "\n",
    "\n",
    "#将原测试集里代表类别的特征‘Region’虚拟化处理\n",
    "dum=pd.get_dummies(test['Region'],prefix=\"Region\")\n",
    "test=pd.concat([test,dum],axis=1)\n",
    "del test['Region']\n",
    "\n",
    "#显示特征转换后的前五行\n",
    "test.head()"
   ]
  },
  {
   "cell_type": "code",
   "execution_count": 31,
   "metadata": {},
   "outputs": [
    {
     "data": {
      "text/html": [
       "<div>\n",
       "<style scoped>\n",
       "    .dataframe tbody tr th:only-of-type {\n",
       "        vertical-align: middle;\n",
       "    }\n",
       "\n",
       "    .dataframe tbody tr th {\n",
       "        vertical-align: top;\n",
       "    }\n",
       "\n",
       "    .dataframe thead th {\n",
       "        text-align: right;\n",
       "    }\n",
       "</style>\n",
       "<table border=\"1\" class=\"dataframe\">\n",
       "  <thead>\n",
       "    <tr style=\"text-align: right;\">\n",
       "      <th></th>\n",
       "      <th>Apartment</th>\n",
       "      <th>Beds</th>\n",
       "      <th>Review</th>\n",
       "      <th>Pic Quality</th>\n",
       "      <th>normalized_price</th>\n",
       "      <th>date_label</th>\n",
       "      <th>week_label</th>\n",
       "      <th>Region_1</th>\n",
       "      <th>Region_2</th>\n",
       "      <th>Region_3</th>\n",
       "      <th>Region_4</th>\n",
       "      <th>Region_5</th>\n",
       "      <th>Region_6</th>\n",
       "      <th>Region_7</th>\n",
       "      <th>Region_8</th>\n",
       "      <th>Region_9</th>\n",
       "      <th>Region_10</th>\n",
       "      <th>possibility</th>\n",
       "    </tr>\n",
       "  </thead>\n",
       "  <tbody>\n",
       "    <tr>\n",
       "      <td>0</td>\n",
       "      <td>1</td>\n",
       "      <td>1</td>\n",
       "      <td>4.923078</td>\n",
       "      <td>0.683932</td>\n",
       "      <td>-0.341719</td>\n",
       "      <td>1</td>\n",
       "      <td>1</td>\n",
       "      <td>1</td>\n",
       "      <td>0</td>\n",
       "      <td>0</td>\n",
       "      <td>0</td>\n",
       "      <td>0</td>\n",
       "      <td>0</td>\n",
       "      <td>0</td>\n",
       "      <td>0</td>\n",
       "      <td>0</td>\n",
       "      <td>0</td>\n",
       "      <td>1</td>\n",
       "    </tr>\n",
       "    <tr>\n",
       "      <td>1</td>\n",
       "      <td>1</td>\n",
       "      <td>1</td>\n",
       "      <td>4.842211</td>\n",
       "      <td>0.958800</td>\n",
       "      <td>-0.230183</td>\n",
       "      <td>1</td>\n",
       "      <td>1</td>\n",
       "      <td>0</td>\n",
       "      <td>0</td>\n",
       "      <td>0</td>\n",
       "      <td>0</td>\n",
       "      <td>0</td>\n",
       "      <td>0</td>\n",
       "      <td>0</td>\n",
       "      <td>0</td>\n",
       "      <td>1</td>\n",
       "      <td>0</td>\n",
       "      <td>1</td>\n",
       "    </tr>\n",
       "    <tr>\n",
       "      <td>2</td>\n",
       "      <td>1</td>\n",
       "      <td>3</td>\n",
       "      <td>4.702331</td>\n",
       "      <td>0.500134</td>\n",
       "      <td>0.742937</td>\n",
       "      <td>4</td>\n",
       "      <td>1</td>\n",
       "      <td>0</td>\n",
       "      <td>1</td>\n",
       "      <td>0</td>\n",
       "      <td>0</td>\n",
       "      <td>0</td>\n",
       "      <td>0</td>\n",
       "      <td>0</td>\n",
       "      <td>0</td>\n",
       "      <td>0</td>\n",
       "      <td>0</td>\n",
       "      <td>1</td>\n",
       "    </tr>\n",
       "    <tr>\n",
       "      <td>3</td>\n",
       "      <td>1</td>\n",
       "      <td>1</td>\n",
       "      <td>4.388125</td>\n",
       "      <td>0.986082</td>\n",
       "      <td>-1.210650</td>\n",
       "      <td>4</td>\n",
       "      <td>1</td>\n",
       "      <td>0</td>\n",
       "      <td>0</td>\n",
       "      <td>0</td>\n",
       "      <td>0</td>\n",
       "      <td>0</td>\n",
       "      <td>0</td>\n",
       "      <td>0</td>\n",
       "      <td>1</td>\n",
       "      <td>0</td>\n",
       "      <td>0</td>\n",
       "      <td>1</td>\n",
       "    </tr>\n",
       "    <tr>\n",
       "      <td>4</td>\n",
       "      <td>0</td>\n",
       "      <td>1</td>\n",
       "      <td>3.868994</td>\n",
       "      <td>0.652980</td>\n",
       "      <td>-0.333568</td>\n",
       "      <td>4</td>\n",
       "      <td>1</td>\n",
       "      <td>0</td>\n",
       "      <td>0</td>\n",
       "      <td>1</td>\n",
       "      <td>0</td>\n",
       "      <td>0</td>\n",
       "      <td>0</td>\n",
       "      <td>0</td>\n",
       "      <td>0</td>\n",
       "      <td>0</td>\n",
       "      <td>0</td>\n",
       "      <td>0</td>\n",
       "    </tr>\n",
       "  </tbody>\n",
       "</table>\n",
       "</div>"
      ],
      "text/plain": [
       "   Apartment  Beds    Review  Pic Quality  normalized_price  date_label  \\\n",
       "0          1     1  4.923078     0.683932         -0.341719           1   \n",
       "1          1     1  4.842211     0.958800         -0.230183           1   \n",
       "2          1     3  4.702331     0.500134          0.742937           4   \n",
       "3          1     1  4.388125     0.986082         -1.210650           4   \n",
       "4          0     1  3.868994     0.652980         -0.333568           4   \n",
       "\n",
       "   week_label  Region_1  Region_2  Region_3  Region_4  Region_5  Region_6  \\\n",
       "0           1         1         0         0         0         0         0   \n",
       "1           1         0         0         0         0         0         0   \n",
       "2           1         0         1         0         0         0         0   \n",
       "3           1         0         0         0         0         0         0   \n",
       "4           1         0         0         1         0         0         0   \n",
       "\n",
       "   Region_7  Region_8  Region_9  Region_10  possibility  \n",
       "0         0         0         0          0            1  \n",
       "1         0         0         1          0            1  \n",
       "2         0         0         0          0            1  \n",
       "3         0         1         0          0            1  \n",
       "4         0         0         0          0            0  "
      ]
     },
     "execution_count": 31,
     "metadata": {},
     "output_type": "execute_result"
    }
   ],
   "source": [
    "#用前面已训练的逻辑回归模型lr对测试集进行预测\n",
    "prediction=lr.predict(test)\n",
    "test['possibility']=prediction\n",
    "\n",
    "test.head()"
   ]
  },
  {
   "cell_type": "code",
   "execution_count": 32,
   "metadata": {},
   "outputs": [
    {
     "data": {
      "text/html": [
       "<div>\n",
       "<style scoped>\n",
       "    .dataframe tbody tr th:only-of-type {\n",
       "        vertical-align: middle;\n",
       "    }\n",
       "\n",
       "    .dataframe tbody tr th {\n",
       "        vertical-align: top;\n",
       "    }\n",
       "\n",
       "    .dataframe thead th {\n",
       "        text-align: right;\n",
       "    }\n",
       "</style>\n",
       "<table border=\"1\" class=\"dataframe\">\n",
       "  <thead>\n",
       "    <tr style=\"text-align: right;\">\n",
       "      <th></th>\n",
       "      <th>ID</th>\n",
       "      <th>possibility</th>\n",
       "    </tr>\n",
       "  </thead>\n",
       "  <tbody>\n",
       "    <tr>\n",
       "      <td>0</td>\n",
       "      <td>1</td>\n",
       "      <td>1</td>\n",
       "    </tr>\n",
       "    <tr>\n",
       "      <td>1</td>\n",
       "      <td>2</td>\n",
       "      <td>1</td>\n",
       "    </tr>\n",
       "    <tr>\n",
       "      <td>2</td>\n",
       "      <td>3</td>\n",
       "      <td>1</td>\n",
       "    </tr>\n",
       "    <tr>\n",
       "      <td>3</td>\n",
       "      <td>4</td>\n",
       "      <td>1</td>\n",
       "    </tr>\n",
       "    <tr>\n",
       "      <td>4</td>\n",
       "      <td>5</td>\n",
       "      <td>0</td>\n",
       "    </tr>\n",
       "  </tbody>\n",
       "</table>\n",
       "</div>"
      ],
      "text/plain": [
       "   ID  possibility\n",
       "0   1            1\n",
       "1   2            1\n",
       "2   3            1\n",
       "3   4            1\n",
       "4   5            0"
      ]
     },
     "execution_count": 32,
     "metadata": {},
     "output_type": "execute_result"
    }
   ],
   "source": [
    "#导出所预测的测试集结果\n",
    "test['ID']=test_original['ID']\n",
    "test_result=test[['ID','possibility']]\n",
    "\n",
    "test_result.to_csv('./test_result1.csv')\n",
    "test_result.head()"
   ]
  },
  {
   "cell_type": "markdown",
   "metadata": {},
   "source": [
    "## 指标对比：accuracy(准确率），precision(精准率）和recall(召回率）"
   ]
  },
  {
   "cell_type": "markdown",
   "metadata": {},
   "source": [
    "accuracy(准确率）：在这里我们不用准确率作为主要指标，因为在二分类的正反比例不均衡的情况下，accuracy(准确率）的参考较低。例如本例中，训练集目标项的0所占的比例约为70%，所以即使模型全部预测结果为0，准确率仍等达到70%。训练集目标项的分布如下："
   ]
  },
  {
   "cell_type": "code",
   "execution_count": 26,
   "metadata": {},
   "outputs": [
    {
     "data": {
      "text/plain": [
       "<matplotlib.axes._subplots.AxesSubplot at 0x1eb2001f048>"
      ]
     },
     "execution_count": 26,
     "metadata": {},
     "output_type": "execute_result"
    },
    {
     "data": {
      "image/png": "[encoded data removed]",
      "text/plain": [
       "<Figure size 432x288 with 1 Axes>"
      ]
     },
     "metadata": {
      "needs_background": "light"
     },
     "output_type": "display_data"
    }
   ],
   "source": [
    "transform_train['Accept'].hist()"
   ]
  },
  {
   "cell_type": "markdown",
   "metadata": {},
   "source": [
    "recall(召回率）：召回率的定义为实际为正的样本中被预测为正样本的概率。召回率越高，代表实际能租出去的房子被预测出来的概率就越高。"
   ]
  },
  {
   "cell_type": "markdown",
   "metadata": {},
   "source": [
    "precision(精准率）:精准率的含义为在所有被预测为正的样本中，实际为正的样本的概率。精准率越低，说明有较多的0样本被预测成了1，即是较多不合理价格的房子被预测为能租出去。这样就导致一个比较严重的后果：房子可能有较长时间的空置，这样无疑导致较大的损失。因为我们都知道，即使稍微便宜一点租出去，也比租不出去好。因此在本例中指标重要性方面：precision(精准率）>recall(召回率）>accuracy(准确率。"
   ]
  },
  {
   "cell_type": "markdown",
   "metadata": {},
   "source": [
    "综上：本例中指标重要性方面：precision(精准率）>recall(召回率）>accuracy(准确率）"
   ]
  }
 ],
 "metadata": {
  "kernelspec": {
   "display_name": "Python 3",
   "language": "python",
   "name": "python3"
  },
  "language_info": {
   "codemirror_mode": {
    "name": "ipython",
    "version": 3
   },
   "file_extension": ".py",
   "mimetype": "text/x-python",
   "name": "python",
   "nbconvert_exporter": "python",
   "pygments_lexer": "ipython3",
   "version": "3.7.4"
  }
 },
 "nbformat": 4,
 "nbformat_minor": 2
}
